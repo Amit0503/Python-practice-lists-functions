{
  "nbformat": 4,
  "nbformat_minor": 0,
  "metadata": {
    "colab": {
      "name": "Copy of Practice Assignment -1",
      "provenance": [],
      "include_colab_link": true
    },
    "kernelspec": {
      "name": "python3",
      "display_name": "Python 3"
    }
  },
  "cells": [
    {
      "cell_type": "markdown",
      "metadata": {
        "id": "view-in-github",
        "colab_type": "text"
      },
      "source": [
        "<a href=\"https://colab.research.google.com/github/Amit0503/Python-practice-lists-functions/blob/master/Copy_of_Practice_Assignment_1.ipynb\" target=\"_parent\"><img src=\"https://colab.research.google.com/assets/colab-badge.svg\" alt=\"Open In Colab\"/></a>"
      ]
    },
    {
      "cell_type": "markdown",
      "metadata": {
        "id": "jffQbUVjDWtd",
        "colab_type": "text"
      },
      "source": [
        "# Exercises on Lists, Tuples, Dictionaries, Loops and Conditonals"
      ]
    },
    {
      "cell_type": "markdown",
      "metadata": {
        "id": "ZFBf6pzvDwrc",
        "colab_type": "text"
      },
      "source": [
        "## 1. Write a Python program to construct the following pattern, using a nested for loop.\n",
        "\n",
        "![](https://www.wikitechy.com/tutorials/csharp/img/c-sharp-images/c-sharp-triangle.png)"
      ]
    },
    {
      "cell_type": "code",
      "metadata": {
        "id": "SV4xrG39Faio",
        "colab_type": "code",
        "outputId": "5be306fa-ba9b-4a14-86b4-3a767da99222",
        "colab": {
          "base_uri": "https://localhost:8080/",
          "height": 357
        }
      },
      "source": [
        "def pyramid(n):\n",
        "  x = 2*n - 2\n",
        "  for i in range(0, n):\n",
        "    for j in range(0, x):\n",
        "      print(end=\" \")\n",
        "    x = x - 1\n",
        "    for j in range(0, i+1):\n",
        "      print(\"* \", end=\"\")\n",
        "    print(\"\\r\")\n",
        "n = 20\n",
        "pyramid(20)\n"
      ],
      "execution_count": 0,
      "outputs": [
        {
          "output_type": "stream",
          "text": [
            "                                      * \r\n",
            "                                     * * \r\n",
            "                                    * * * \r\n",
            "                                   * * * * \r\n",
            "                                  * * * * * \r\n",
            "                                 * * * * * * \r\n",
            "                                * * * * * * * \r\n",
            "                               * * * * * * * * \r\n",
            "                              * * * * * * * * * \r\n",
            "                             * * * * * * * * * * \r\n",
            "                            * * * * * * * * * * * \r\n",
            "                           * * * * * * * * * * * * \r\n",
            "                          * * * * * * * * * * * * * \r\n",
            "                         * * * * * * * * * * * * * * \r\n",
            "                        * * * * * * * * * * * * * * * \r\n",
            "                       * * * * * * * * * * * * * * * * \r\n",
            "                      * * * * * * * * * * * * * * * * * \r\n",
            "                     * * * * * * * * * * * * * * * * * * \r\n",
            "                    * * * * * * * * * * * * * * * * * * * \r\n",
            "                   * * * * * * * * * * * * * * * * * * * * \r\n"
          ],
          "name": "stdout"
        }
      ]
    },
    {
      "cell_type": "markdown",
      "metadata": {
        "id": "618qI-dWF6KC",
        "colab_type": "text"
      },
      "source": [
        "## 2. Write a Python program to find whether a given array of integers contains any duplicate element. Return true if any value appears at least twice in the said array and return false if every element is distinct."
      ]
    },
    {
      "cell_type": "code",
      "metadata": {
        "id": "529YEnEsF8EQ",
        "colab_type": "code",
        "colab": {}
      },
      "source": [
        "def test_duplicate(array_nums):\n",
        "    nums_set = set(array_nums)    \n",
        "    return len(array_nums) != len(nums_set)     \n",
        "print(test_duplicate([1,2,3,4,5]))\n",
        "print(test_duplicate([1,2,3,4, 4]))\n",
        "print(test_duplicate([1,1,2,2,3,3,4,4,5]))"
      ],
      "execution_count": 0,
      "outputs": []
    },
    {
      "cell_type": "markdown",
      "metadata": {
        "id": "3JreCKETGBuc",
        "colab_type": "text"
      },
      "source": [
        "## 3. Write a Python program to count the number of elements in a list within a specified range."
      ]
    },
    {
      "cell_type": "code",
      "metadata": {
        "id": "0ZRbMcwlGLpJ",
        "colab_type": "code",
        "colab": {}
      },
      "source": [
        "def count_range_in_list(li, min, max):\n",
        "\tctr = 0\n",
        "\tfor x in li:\n",
        "\t\tif min <= x <= max:\n",
        "\t\t\tctr += 1\n",
        "\treturn ctr\n",
        "\n",
        "list1 = [10,20,30,40,40,40,70,80,99]\n",
        "print(count_range_in_list(list1, 40, 100))\n",
        "\n",
        "list2 = ['a','b','c','d','e','f']\n",
        "print(count_range_in_list(list2, 'a', 'e'))"
      ],
      "execution_count": 0,
      "outputs": []
    },
    {
      "cell_type": "markdown",
      "metadata": {
        "id": "FzMpN_iEGQO0",
        "colab_type": "text"
      },
      "source": [
        "## 4. Write a Python program to find common items from two lists."
      ]
    },
    {
      "cell_type": "code",
      "metadata": {
        "id": "H-E9EZXVGe68",
        "colab_type": "code",
        "colab": {}
      },
      "source": [
        "color1 = \"Red\", \"Green\", \"Orange\", \"White\"\n",
        "color2 = \"Black\", \"Green\", \"White\", \"Pink\"\n",
        "print(set(color1) & set(color2))"
      ],
      "execution_count": 0,
      "outputs": []
    },
    {
      "cell_type": "markdown",
      "metadata": {
        "id": "KB1AJu_LGhQj",
        "colab_type": "text"
      },
      "source": [
        "## 5. Write a Python program to split a list based on first character of word."
      ]
    },
    {
      "cell_type": "code",
      "metadata": {
        "id": "Ffaux0TrGpgn",
        "colab_type": "code",
        "colab": {}
      },
      "source": [
        "from itertools import groupby\n",
        "from operator import itemgetter\n",
        "\n",
        "list1 = ['Amit','Arup','Subha','Aurangabad','Sunday','Monday']\n",
        "for letter, words in groupby(sorted(list1), key=itemgetter(0)):\n",
        "    print(letter)\n",
        "    for word in words:\n",
        "        print(word)"
      ],
      "execution_count": 0,
      "outputs": []
    },
    {
      "cell_type": "markdown",
      "metadata": {
        "id": "PoMiMss_GroN",
        "colab_type": "text"
      },
      "source": [
        "## 6. Write a Python program to remove key values pairs from a list of dictionaries. "
      ]
    },
    {
      "cell_type": "code",
      "metadata": {
        "id": "r75upYLMG5WX",
        "colab_type": "code",
        "colab": {}
      },
      "source": [
        "list1 = [{'name':'Amit', 'gender':'male'}, {'name':'Amita', 'gender':'female'}]\n",
        "print(\" List 1: \")\n",
        "print(list1)\n",
        "list2 = [{k: v for k, v in d.items() if k != 'name'} for d in list1]\n",
        "print(\"New List: \", list2)"
      ],
      "execution_count": 0,
      "outputs": []
    },
    {
      "cell_type": "markdown",
      "metadata": {
        "id": "ZU7pjfNDG_Uy",
        "colab_type": "text"
      },
      "source": [
        "## 7. Write a Python program to get the Fibonacci series between 0 to 50."
      ]
    },
    {
      "cell_type": "code",
      "metadata": {
        "id": "rnLFlZ9WHHRr",
        "colab_type": "code",
        "colab": {}
      },
      "source": [
        "a,b=0,1\n",
        "\n",
        "while b<51:\n",
        "    print(b)\n",
        "    a,b = b,a+b"
      ],
      "execution_count": 0,
      "outputs": []
    },
    {
      "cell_type": "markdown",
      "metadata": {
        "id": "OjbtIZn5HJr9",
        "colab_type": "text"
      },
      "source": [
        "## 8. Write a Python program which takes two digits m (row) and n (column) as input and generates a two-dimensional array. The element value in the i-th row and j-th column of the array should be i*j."
      ]
    },
    {
      "cell_type": "code",
      "metadata": {
        "id": "uIJ_6HGwHXCN",
        "colab_type": "code",
        "colab": {}
      },
      "source": [
        "row_num = int(input(\"Input number of rows: \"))\n",
        "col_num = int(input(\"Input number of columns: \"))\n",
        "multi_list = [[0 for col in range(col_num)] for row in range(row_num)]\n",
        "\n",
        "for row in range(row_num):\n",
        "    for col in range(col_num):\n",
        "        multi_list[row][col]= row*col\n",
        "\n",
        "print(multi_list)"
      ],
      "execution_count": 0,
      "outputs": []
    },
    {
      "cell_type": "markdown",
      "metadata": {
        "id": "rGK51qKDHYzy",
        "colab_type": "text"
      },
      "source": [
        "# 9. Print the pattern:\n",
        "![Pattern](https://media.geeksforgeeks.org/wp-content/cdn-uploads/diamond.png)"
      ]
    },
    {
      "cell_type": "code",
      "metadata": {
        "id": "yEWYrqvrH4mC",
        "colab_type": "code",
        "outputId": "022432d0-10ed-4f43-a323-3d2ad9dde812",
        "colab": {
          "base_uri": "https://localhost:8080/",
          "height": 221
        }
      },
      "source": [
        "rows = int(input(\"Enter the size of diamond \"))\n",
        "k = 2 * rows - 2\n",
        "for i in range(0, rows):\n",
        "    for j in range(0, k):\n",
        "        print(end=\" \")\n",
        "    k = k - 1\n",
        "    for j in range(0, i + 1):\n",
        "        print(\"* \", end=\"\")\n",
        "    print(\"\")\n",
        "    \n",
        "k = rows - 2\n",
        "\n",
        "for i in range(rows, -1, -1):\n",
        "    for j in range(k, 0, -1):\n",
        "        print(end=\" \")\n",
        "    k = k + 1\n",
        "    for j in range(0, i + 1):\n",
        "        print(\"* \", end=\"\")\n",
        "    print(\"\")"
      ],
      "execution_count": 0,
      "outputs": [
        {
          "output_type": "stream",
          "text": [
            "Enter the size of diamond 5\n",
            "        * \n",
            "       * * \n",
            "      * * * \n",
            "     * * * * \n",
            "    * * * * * \n",
            "   * * * * * * \n",
            "    * * * * * \n",
            "     * * * * \n",
            "      * * * \n",
            "       * * \n",
            "        * \n"
          ],
          "name": "stdout"
        }
      ]
    },
    {
      "cell_type": "markdown",
      "metadata": {
        "id": "ZegCC70jH_0B",
        "colab_type": "text"
      },
      "source": [
        "## 10. Write a Python program to convert a string to a list."
      ]
    },
    {
      "cell_type": "code",
      "metadata": {
        "id": "rHtdoqgBIKse",
        "colab_type": "code",
        "outputId": "e1fe0405-280f-4711-878c-dd7bbc3488c5",
        "colab": {
          "base_uri": "https://localhost:8080/",
          "height": 34
        }
      },
      "source": [
        "str1 = \"Amit Kumar Sharma\"\n",
        "list1 = list(str1.split(\" \"))\n",
        "print(list1)"
      ],
      "execution_count": 0,
      "outputs": [
        {
          "output_type": "stream",
          "text": [
            "['Amit', 'Kumar', 'Sharma']\n"
          ],
          "name": "stdout"
        }
      ]
    },
    {
      "cell_type": "markdown",
      "metadata": {
        "id": "CXuJp-rMIPIB",
        "colab_type": "text"
      },
      "source": [
        "***\n",
        "# Thank you\n",
        "\n",
        "---\n",
        "\n",
        "\n",
        "***"
      ]
    }
  ]
}