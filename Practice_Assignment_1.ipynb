{
  "nbformat": 4,
  "nbformat_minor": 0,
  "metadata": {
    "colab": {
      "name": "Practice Assignment -1",
      "provenance": [],
      "authorship_tag": "ABX9TyOss6iuIxisrf2PSAQmwKip",
      "include_colab_link": true
    },
    "kernelspec": {
      "name": "python3",
      "display_name": "Python 3"
    }
  },
  "cells": [
    {
      "cell_type": "markdown",
      "metadata": {
        "id": "view-in-github",
        "colab_type": "text"
      },
      "source": [
        "<a href=\"https://colab.research.google.com/github/SurajDonthi/Python-practice-lists-functions/blob/master/Practice_Assignment_1.ipynb\" target=\"_parent\"><img src=\"https://colab.research.google.com/assets/colab-badge.svg\" alt=\"Open In Colab\"/></a>"
      ]
    },
    {
      "cell_type": "markdown",
      "metadata": {
        "id": "jffQbUVjDWtd",
        "colab_type": "text"
      },
      "source": [
        "# Exercises on Lists, Tuples, Dictionaries, Loops and Conditonals"
      ]
    },
    {
      "cell_type": "markdown",
      "metadata": {
        "id": "ZFBf6pzvDwrc",
        "colab_type": "text"
      },
      "source": [
        "## 1. Write a Python program to construct the following pattern, using a nested for loop.\n",
        "\n",
        "![image.png](data:image/png;base64,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)"
      ]
    },
    {
      "cell_type": "code",
      "metadata": {
        "id": "SV4xrG39Faio",
        "colab_type": "code",
        "colab": {}
      },
      "source": [
        "# Your Code here"
      ],
      "execution_count": 0,
      "outputs": []
    },
    {
      "cell_type": "markdown",
      "metadata": {
        "id": "618qI-dWF6KC",
        "colab_type": "text"
      },
      "source": [
        "## 2. Write a Python program to find whether a given array of integers contains any duplicate element. Return true if any value appears at least twice in the said array and return false if every element is distinct."
      ]
    },
    {
      "cell_type": "code",
      "metadata": {
        "id": "529YEnEsF8EQ",
        "colab_type": "code",
        "colab": {}
      },
      "source": [
        "# Your code here"
      ],
      "execution_count": 0,
      "outputs": []
    },
    {
      "cell_type": "markdown",
      "metadata": {
        "id": "3JreCKETGBuc",
        "colab_type": "text"
      },
      "source": [
        "## 3. Write a Python program to count the number of elements in a list within a specified range."
      ]
    },
    {
      "cell_type": "code",
      "metadata": {
        "id": "0ZRbMcwlGLpJ",
        "colab_type": "code",
        "colab": {}
      },
      "source": [
        "# Your code here"
      ],
      "execution_count": 0,
      "outputs": []
    },
    {
      "cell_type": "markdown",
      "metadata": {
        "id": "FzMpN_iEGQO0",
        "colab_type": "text"
      },
      "source": [
        "## 4. Write a Python program to find common items from two lists."
      ]
    },
    {
      "cell_type": "code",
      "metadata": {
        "id": "H-E9EZXVGe68",
        "colab_type": "code",
        "colab": {}
      },
      "source": [
        "# Your code here"
      ],
      "execution_count": 0,
      "outputs": []
    },
    {
      "cell_type": "markdown",
      "metadata": {
        "id": "KB1AJu_LGhQj",
        "colab_type": "text"
      },
      "source": [
        "## 5. Write a Python program to split a list based on first character of word."
      ]
    },
    {
      "cell_type": "code",
      "metadata": {
        "id": "Ffaux0TrGpgn",
        "colab_type": "code",
        "colab": {}
      },
      "source": [
        "# Your code here"
      ],
      "execution_count": 0,
      "outputs": []
    },
    {
      "cell_type": "markdown",
      "metadata": {
        "id": "PoMiMss_GroN",
        "colab_type": "text"
      },
      "source": [
        "## 6. Write a Python program to remove key values pairs from a list of dictionaries. "
      ]
    },
    {
      "cell_type": "code",
      "metadata": {
        "id": "r75upYLMG5WX",
        "colab_type": "code",
        "colab": {}
      },
      "source": [
        "# Your code here"
      ],
      "execution_count": 0,
      "outputs": []
    },
    {
      "cell_type": "markdown",
      "metadata": {
        "id": "ZU7pjfNDG_Uy",
        "colab_type": "text"
      },
      "source": [
        "## 7. Write a Python program to get the Fibonacci series between 0 to 50."
      ]
    },
    {
      "cell_type": "code",
      "metadata": {
        "id": "rnLFlZ9WHHRr",
        "colab_type": "code",
        "colab": {}
      },
      "source": [
        "# Your code here"
      ],
      "execution_count": 0,
      "outputs": []
    },
    {
      "cell_type": "markdown",
      "metadata": {
        "id": "OjbtIZn5HJr9",
        "colab_type": "text"
      },
      "source": [
        "## 8. Write a Python program which takes two digits m (row) and n (column) as input and generates a two-dimensional array. The element value in the i-th row and j-th column of the array should be i*j."
      ]
    },
    {
      "cell_type": "code",
      "metadata": {
        "id": "uIJ_6HGwHXCN",
        "colab_type": "code",
        "colab": {}
      },
      "source": [
        "# Your code here"
      ],
      "execution_count": 0,
      "outputs": []
    },
    {
      "cell_type": "markdown",
      "metadata": {
        "id": "rGK51qKDHYzy",
        "colab_type": "text"
      },
      "source": [
        "# 9. Print the pattern:\n",
        "![Pattern](https://media.geeksforgeeks.org/wp-content/cdn-uploads/diamond.png)"
      ]
    },
    {
      "cell_type": "code",
      "metadata": {
        "id": "yEWYrqvrH4mC",
        "colab_type": "code",
        "colab": {}
      },
      "source": [
        "# Your code here"
      ],
      "execution_count": 0,
      "outputs": []
    },
    {
      "cell_type": "markdown",
      "metadata": {
        "id": "ZegCC70jH_0B",
        "colab_type": "text"
      },
      "source": [
        "## 10. Write a Python program to convert a string to a list."
      ]
    },
    {
      "cell_type": "code",
      "metadata": {
        "id": "rHtdoqgBIKse",
        "colab_type": "code",
        "colab": {}
      },
      "source": [
        "# Your code here"
      ],
      "execution_count": 0,
      "outputs": []
    },
    {
      "cell_type": "markdown",
      "metadata": {
        "id": "CXuJp-rMIPIB",
        "colab_type": "text"
      },
      "source": [
        "***\n",
        "# Thank you\n",
        "\n",
        "---\n",
        "\n",
        "\n",
        "***"
      ]
    }
  ]
}