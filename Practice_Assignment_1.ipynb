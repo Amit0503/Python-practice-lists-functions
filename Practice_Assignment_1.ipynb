{
  "nbformat": 4,
  "nbformat_minor": 0,
  "metadata": {
    "colab": {
      "name": "Practice Assignment -1",
      "provenance": [],
      "authorship_tag": "ABX9TyNxTssMacIJIDT5ETWRF2lB",
      "include_colab_link": true
    },
    "kernelspec": {
      "name": "python3",
      "display_name": "Python 3"
    }
  },
  "cells": [
    {
      "cell_type": "markdown",
      "metadata": {
        "id": "view-in-github",
        "colab_type": "text"
      },
      "source": [
        "<a href=\"https://colab.research.google.com/github/SurajDonthi/Python-practice-lists-functions/blob/master/Practice_Assignment_1.ipynb\" target=\"_parent\"><img src=\"https://colab.research.google.com/assets/colab-badge.svg\" alt=\"Open In Colab\"/></a>"
      ]
    },
    {
      "cell_type": "markdown",
      "metadata": {
        "id": "jffQbUVjDWtd",
        "colab_type": "text"
      },
      "source": [
        "# Exercises on Lists, Tuples, Dictionaries, Loops and Conditonals"
      ]
    },
    {
      "cell_type": "markdown",
      "metadata": {
        "id": "ZFBf6pzvDwrc",
        "colab_type": "text"
      },
      "source": [
        "## 1. Write a Python program to construct the following pattern, using a nested for loop.\n",
        "\n",
        "![](https://www.wikitechy.com/tutorials/csharp/img/c-sharp-images/c-sharp-triangle.png)"
      ]
    },
    {
      "cell_type": "code",
      "metadata": {
        "id": "SV4xrG39Faio",
        "colab_type": "code",
        "colab": {}
      },
      "source": [
        "# Your Code here"
      ],
      "execution_count": 0,
      "outputs": []
    },
    {
      "cell_type": "markdown",
      "metadata": {
        "id": "618qI-dWF6KC",
        "colab_type": "text"
      },
      "source": [
        "## 2. Write a Python program to find whether a given array of integers contains any duplicate element. Return true if any value appears at least twice in the said array and return false if every element is distinct."
      ]
    },
    {
      "cell_type": "code",
      "metadata": {
        "id": "529YEnEsF8EQ",
        "colab_type": "code",
        "colab": {}
      },
      "source": [
        "# Your code here"
      ],
      "execution_count": 0,
      "outputs": []
    },
    {
      "cell_type": "markdown",
      "metadata": {
        "id": "3JreCKETGBuc",
        "colab_type": "text"
      },
      "source": [
        "## 3. Write a Python program to count the number of elements in a list within a specified range."
      ]
    },
    {
      "cell_type": "code",
      "metadata": {
        "id": "0ZRbMcwlGLpJ",
        "colab_type": "code",
        "colab": {}
      },
      "source": [
        "# Your code here"
      ],
      "execution_count": 0,
      "outputs": []
    },
    {
      "cell_type": "markdown",
      "metadata": {
        "id": "FzMpN_iEGQO0",
        "colab_type": "text"
      },
      "source": [
        "## 4. Write a Python program to find common items from two lists."
      ]
    },
    {
      "cell_type": "code",
      "metadata": {
        "id": "H-E9EZXVGe68",
        "colab_type": "code",
        "colab": {}
      },
      "source": [
        "# Your code here"
      ],
      "execution_count": 0,
      "outputs": []
    },
    {
      "cell_type": "markdown",
      "metadata": {
        "id": "KB1AJu_LGhQj",
        "colab_type": "text"
      },
      "source": [
        "## 5. Write a Python program to split a list based on first character of word."
      ]
    },
    {
      "cell_type": "code",
      "metadata": {
        "id": "Ffaux0TrGpgn",
        "colab_type": "code",
        "colab": {}
      },
      "source": [
        "# Your code here"
      ],
      "execution_count": 0,
      "outputs": []
    },
    {
      "cell_type": "markdown",
      "metadata": {
        "id": "PoMiMss_GroN",
        "colab_type": "text"
      },
      "source": [
        "## 6. Write a Python program to remove key values pairs from a list of dictionaries. "
      ]
    },
    {
      "cell_type": "code",
      "metadata": {
        "id": "r75upYLMG5WX",
        "colab_type": "code",
        "colab": {}
      },
      "source": [
        "# Your code here"
      ],
      "execution_count": 0,
      "outputs": []
    },
    {
      "cell_type": "markdown",
      "metadata": {
        "id": "ZU7pjfNDG_Uy",
        "colab_type": "text"
      },
      "source": [
        "## 7. Write a Python program to get the Fibonacci series between 0 to 50."
      ]
    },
    {
      "cell_type": "code",
      "metadata": {
        "id": "rnLFlZ9WHHRr",
        "colab_type": "code",
        "colab": {}
      },
      "source": [
        "# Your code here"
      ],
      "execution_count": 0,
      "outputs": []
    },
    {
      "cell_type": "markdown",
      "metadata": {
        "id": "OjbtIZn5HJr9",
        "colab_type": "text"
      },
      "source": [
        "## 8. Write a Python program which takes two digits m (row) and n (column) as input and generates a two-dimensional array. The element value in the i-th row and j-th column of the array should be i*j."
      ]
    },
    {
      "cell_type": "code",
      "metadata": {
        "id": "uIJ_6HGwHXCN",
        "colab_type": "code",
        "colab": {}
      },
      "source": [
        "# Your code here"
      ],
      "execution_count": 0,
      "outputs": []
    },
    {
      "cell_type": "markdown",
      "metadata": {
        "id": "rGK51qKDHYzy",
        "colab_type": "text"
      },
      "source": [
        "# 9. Print the pattern:\n",
        "![Pattern](https://media.geeksforgeeks.org/wp-content/cdn-uploads/diamond.png)"
      ]
    },
    {
      "cell_type": "code",
      "metadata": {
        "id": "yEWYrqvrH4mC",
        "colab_type": "code",
        "colab": {}
      },
      "source": [
        "# Your code here"
      ],
      "execution_count": 0,
      "outputs": []
    },
    {
      "cell_type": "markdown",
      "metadata": {
        "id": "ZegCC70jH_0B",
        "colab_type": "text"
      },
      "source": [
        "## 10. Write a Python program to convert a string to a list."
      ]
    },
    {
      "cell_type": "code",
      "metadata": {
        "id": "rHtdoqgBIKse",
        "colab_type": "code",
        "colab": {}
      },
      "source": [
        "# Your code here"
      ],
      "execution_count": 0,
      "outputs": []
    },
    {
      "cell_type": "markdown",
      "metadata": {
        "id": "CXuJp-rMIPIB",
        "colab_type": "text"
      },
      "source": [
        "***\n",
        "# Thank you\n",
        "\n",
        "---\n",
        "\n",
        "\n",
        "***"
      ]
    }
  ]
}